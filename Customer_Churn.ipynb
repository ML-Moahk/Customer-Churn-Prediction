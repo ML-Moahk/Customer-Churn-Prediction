{
 "cells": [
  {
   "cell_type": "code",
   "execution_count": 113,
   "id": "d7774697-f86e-487e-b880-49f8a98c680e",
   "metadata": {},
   "outputs": [],
   "source": [
    "import pandas as pd\n",
    "import numpy as np\n",
    "import matplotlib.pyplot as plt\n",
    "import seaborn as sns \n",
    "from sklearn.impute import SimpleImputer\n",
    "from sklearn.preprocessing import LabelEncoder, StandardScaler\n",
    "\n",
    "filepath=r\"C:\\Users\\Owner\\Downloads\\archive (1)\\Telco-Customer-Churn.csv\" #FILE LOACTION ON MY COMPUTER"
   ]
  },
  {
   "cell_type": "code",
   "execution_count": 114,
   "id": "7657e48b-462f-4f84-a884-d89559078bf8",
   "metadata": {},
   "outputs": [
    {
     "data": {
      "text/html": [
       "<div>\n",
       "<style scoped>\n",
       "    .dataframe tbody tr th:only-of-type {\n",
       "        vertical-align: middle;\n",
       "    }\n",
       "\n",
       "    .dataframe tbody tr th {\n",
       "        vertical-align: top;\n",
       "    }\n",
       "\n",
       "    .dataframe thead th {\n",
       "        text-align: right;\n",
       "    }\n",
       "</style>\n",
       "<table border=\"1\" class=\"dataframe\">\n",
       "  <thead>\n",
       "    <tr style=\"text-align: right;\">\n",
       "      <th></th>\n",
       "      <th>customerID</th>\n",
       "      <th>gender</th>\n",
       "      <th>SeniorCitizen</th>\n",
       "      <th>Partner</th>\n",
       "      <th>Dependents</th>\n",
       "      <th>tenure</th>\n",
       "      <th>PhoneService</th>\n",
       "      <th>MultipleLines</th>\n",
       "      <th>InternetService</th>\n",
       "      <th>OnlineSecurity</th>\n",
       "      <th>...</th>\n",
       "      <th>DeviceProtection</th>\n",
       "      <th>TechSupport</th>\n",
       "      <th>StreamingTV</th>\n",
       "      <th>StreamingMovies</th>\n",
       "      <th>Contract</th>\n",
       "      <th>PaperlessBilling</th>\n",
       "      <th>PaymentMethod</th>\n",
       "      <th>MonthlyCharges</th>\n",
       "      <th>TotalCharges</th>\n",
       "      <th>Churn</th>\n",
       "    </tr>\n",
       "  </thead>\n",
       "  <tbody>\n",
       "    <tr>\n",
       "      <th>0</th>\n",
       "      <td>7590-VHVEG</td>\n",
       "      <td>Female</td>\n",
       "      <td>0</td>\n",
       "      <td>Yes</td>\n",
       "      <td>No</td>\n",
       "      <td>1</td>\n",
       "      <td>No</td>\n",
       "      <td>No phone service</td>\n",
       "      <td>DSL</td>\n",
       "      <td>No</td>\n",
       "      <td>...</td>\n",
       "      <td>No</td>\n",
       "      <td>No</td>\n",
       "      <td>No</td>\n",
       "      <td>No</td>\n",
       "      <td>Month-to-month</td>\n",
       "      <td>Yes</td>\n",
       "      <td>Electronic check</td>\n",
       "      <td>29.85</td>\n",
       "      <td>29.85</td>\n",
       "      <td>No</td>\n",
       "    </tr>\n",
       "    <tr>\n",
       "      <th>1</th>\n",
       "      <td>5575-GNVDE</td>\n",
       "      <td>Male</td>\n",
       "      <td>0</td>\n",
       "      <td>No</td>\n",
       "      <td>No</td>\n",
       "      <td>34</td>\n",
       "      <td>Yes</td>\n",
       "      <td>No</td>\n",
       "      <td>DSL</td>\n",
       "      <td>Yes</td>\n",
       "      <td>...</td>\n",
       "      <td>Yes</td>\n",
       "      <td>No</td>\n",
       "      <td>No</td>\n",
       "      <td>No</td>\n",
       "      <td>One year</td>\n",
       "      <td>No</td>\n",
       "      <td>Mailed check</td>\n",
       "      <td>56.95</td>\n",
       "      <td>1889.5</td>\n",
       "      <td>No</td>\n",
       "    </tr>\n",
       "    <tr>\n",
       "      <th>2</th>\n",
       "      <td>3668-QPYBK</td>\n",
       "      <td>Male</td>\n",
       "      <td>0</td>\n",
       "      <td>No</td>\n",
       "      <td>No</td>\n",
       "      <td>2</td>\n",
       "      <td>Yes</td>\n",
       "      <td>No</td>\n",
       "      <td>DSL</td>\n",
       "      <td>Yes</td>\n",
       "      <td>...</td>\n",
       "      <td>No</td>\n",
       "      <td>No</td>\n",
       "      <td>No</td>\n",
       "      <td>No</td>\n",
       "      <td>Month-to-month</td>\n",
       "      <td>Yes</td>\n",
       "      <td>Mailed check</td>\n",
       "      <td>53.85</td>\n",
       "      <td>108.15</td>\n",
       "      <td>Yes</td>\n",
       "    </tr>\n",
       "    <tr>\n",
       "      <th>3</th>\n",
       "      <td>7795-CFOCW</td>\n",
       "      <td>Male</td>\n",
       "      <td>0</td>\n",
       "      <td>No</td>\n",
       "      <td>No</td>\n",
       "      <td>45</td>\n",
       "      <td>No</td>\n",
       "      <td>No phone service</td>\n",
       "      <td>DSL</td>\n",
       "      <td>Yes</td>\n",
       "      <td>...</td>\n",
       "      <td>Yes</td>\n",
       "      <td>Yes</td>\n",
       "      <td>No</td>\n",
       "      <td>No</td>\n",
       "      <td>One year</td>\n",
       "      <td>No</td>\n",
       "      <td>Bank transfer (automatic)</td>\n",
       "      <td>42.30</td>\n",
       "      <td>1840.75</td>\n",
       "      <td>No</td>\n",
       "    </tr>\n",
       "    <tr>\n",
       "      <th>4</th>\n",
       "      <td>9237-HQITU</td>\n",
       "      <td>Female</td>\n",
       "      <td>0</td>\n",
       "      <td>No</td>\n",
       "      <td>No</td>\n",
       "      <td>2</td>\n",
       "      <td>Yes</td>\n",
       "      <td>No</td>\n",
       "      <td>Fiber optic</td>\n",
       "      <td>No</td>\n",
       "      <td>...</td>\n",
       "      <td>No</td>\n",
       "      <td>No</td>\n",
       "      <td>No</td>\n",
       "      <td>No</td>\n",
       "      <td>Month-to-month</td>\n",
       "      <td>Yes</td>\n",
       "      <td>Electronic check</td>\n",
       "      <td>70.70</td>\n",
       "      <td>151.65</td>\n",
       "      <td>Yes</td>\n",
       "    </tr>\n",
       "  </tbody>\n",
       "</table>\n",
       "<p>5 rows × 21 columns</p>\n",
       "</div>"
      ],
      "text/plain": [
       "   customerID  gender  SeniorCitizen Partner Dependents  tenure PhoneService  \\\n",
       "0  7590-VHVEG  Female              0     Yes         No       1           No   \n",
       "1  5575-GNVDE    Male              0      No         No      34          Yes   \n",
       "2  3668-QPYBK    Male              0      No         No       2          Yes   \n",
       "3  7795-CFOCW    Male              0      No         No      45           No   \n",
       "4  9237-HQITU  Female              0      No         No       2          Yes   \n",
       "\n",
       "      MultipleLines InternetService OnlineSecurity  ... DeviceProtection  \\\n",
       "0  No phone service             DSL             No  ...               No   \n",
       "1                No             DSL            Yes  ...              Yes   \n",
       "2                No             DSL            Yes  ...               No   \n",
       "3  No phone service             DSL            Yes  ...              Yes   \n",
       "4                No     Fiber optic             No  ...               No   \n",
       "\n",
       "  TechSupport StreamingTV StreamingMovies        Contract PaperlessBilling  \\\n",
       "0          No          No              No  Month-to-month              Yes   \n",
       "1          No          No              No        One year               No   \n",
       "2          No          No              No  Month-to-month              Yes   \n",
       "3         Yes          No              No        One year               No   \n",
       "4          No          No              No  Month-to-month              Yes   \n",
       "\n",
       "               PaymentMethod MonthlyCharges  TotalCharges Churn  \n",
       "0           Electronic check          29.85         29.85    No  \n",
       "1               Mailed check          56.95        1889.5    No  \n",
       "2               Mailed check          53.85        108.15   Yes  \n",
       "3  Bank transfer (automatic)          42.30       1840.75    No  \n",
       "4           Electronic check          70.70        151.65   Yes  \n",
       "\n",
       "[5 rows x 21 columns]"
      ]
     },
     "execution_count": 114,
     "metadata": {},
     "output_type": "execute_result"
    }
   ],
   "source": [
    "data = pd.read_csv(filepath)\n",
    "data.head()"
   ]
  },
  {
   "cell_type": "code",
   "execution_count": 115,
   "id": "ceebb204-887e-460d-9d61-670ad21aea7f",
   "metadata": {},
   "outputs": [
    {
     "name": "stdout",
     "output_type": "stream",
     "text": [
      "<class 'pandas.core.frame.DataFrame'>\n",
      "RangeIndex: 7043 entries, 0 to 7042\n",
      "Data columns (total 21 columns):\n",
      " #   Column            Non-Null Count  Dtype  \n",
      "---  ------            --------------  -----  \n",
      " 0   customerID        7043 non-null   object \n",
      " 1   gender            7043 non-null   object \n",
      " 2   SeniorCitizen     7043 non-null   int64  \n",
      " 3   Partner           7043 non-null   object \n",
      " 4   Dependents        7043 non-null   object \n",
      " 5   tenure            7043 non-null   int64  \n",
      " 6   PhoneService      7043 non-null   object \n",
      " 7   MultipleLines     7043 non-null   object \n",
      " 8   InternetService   7043 non-null   object \n",
      " 9   OnlineSecurity    7043 non-null   object \n",
      " 10  OnlineBackup      7043 non-null   object \n",
      " 11  DeviceProtection  7043 non-null   object \n",
      " 12  TechSupport       7043 non-null   object \n",
      " 13  StreamingTV       7043 non-null   object \n",
      " 14  StreamingMovies   7043 non-null   object \n",
      " 15  Contract          7043 non-null   object \n",
      " 16  PaperlessBilling  7043 non-null   object \n",
      " 17  PaymentMethod     7043 non-null   object \n",
      " 18  MonthlyCharges    7043 non-null   float64\n",
      " 19  TotalCharges      7043 non-null   object \n",
      " 20  Churn             7043 non-null   object \n",
      "dtypes: float64(1), int64(2), object(18)\n",
      "memory usage: 1.1+ MB\n",
      "None\n"
     ]
    }
   ],
   "source": [
    "#Check data information  \n",
    "print(data.info())"
   ]
  },
  {
   "cell_type": "code",
   "execution_count": 116,
   "id": "1962ff56-a3be-4a30-a3b7-1d4fb1b59cad",
   "metadata": {},
   "outputs": [
    {
     "name": "stdout",
     "output_type": "stream",
     "text": [
      "customerID          0\n",
      "gender              0\n",
      "SeniorCitizen       0\n",
      "Partner             0\n",
      "Dependents          0\n",
      "tenure              0\n",
      "PhoneService        0\n",
      "MultipleLines       0\n",
      "InternetService     0\n",
      "OnlineSecurity      0\n",
      "OnlineBackup        0\n",
      "DeviceProtection    0\n",
      "TechSupport         0\n",
      "StreamingTV         0\n",
      "StreamingMovies     0\n",
      "Contract            0\n",
      "PaperlessBilling    0\n",
      "PaymentMethod       0\n",
      "MonthlyCharges      0\n",
      "TotalCharges        0\n",
      "Churn               0\n",
      "dtype: int64\n"
     ]
    }
   ],
   "source": [
    "#Check for missing values\n",
    "print(data.isnull().sum())"
   ]
  },
  {
   "cell_type": "code",
   "execution_count": 117,
   "id": "cb051958-6753-4a8c-9262-1a3b6a91f489",
   "metadata": {},
   "outputs": [
    {
     "name": "stdout",
     "output_type": "stream",
     "text": [
      "gender:2 unique classes\n",
      "Partner:2 unique classes\n",
      "Dependents:2 unique classes\n",
      "PhoneService:2 unique classes\n",
      "MultipleLines:3 unique classes\n",
      "InternetService:3 unique classes\n",
      "OnlineSecurity:3 unique classes\n",
      "OnlineBackup:3 unique classes\n",
      "DeviceProtection:3 unique classes\n",
      "TechSupport:3 unique classes\n",
      "StreamingTV:3 unique classes\n",
      "StreamingMovies:3 unique classes\n",
      "Contract:3 unique classes\n",
      "PaperlessBilling:2 unique classes\n",
      "PaymentMethod:4 unique classes\n",
      "Churn:2 unique classes\n"
     ]
    }
   ],
   "source": [
    "#checking the number of uniques classes our categorical feayures have\n",
    "categorical_column = ['gender', 'Partner', 'Dependents', 'PhoneService', 'MultipleLines', 'InternetService', 'OnlineSecurity', 'OnlineBackup', 'DeviceProtection', 'TechSupport', 'StreamingTV', 'StreamingMovies',  'Contract', 'PaperlessBilling', 'PaymentMethod', 'Churn']\n",
    "for column in categorical_column:\n",
    "    print(f'{column}:{data[column].nunique()} unique classes')"
   ]
  },
  {
   "cell_type": "code",
   "execution_count": 118,
   "id": "a7e8c86d-9259-496a-acc9-44b7f269e9e2",
   "metadata": {},
   "outputs": [
    {
     "name": "stdout",
     "output_type": "stream",
     "text": [
      "['29.85' '1889.5' '108.15' ... '346.45' '306.6' '6844.5']\n"
     ]
    }
   ],
   "source": [
    "#we need to check ehy Totalcharges is stored as object. first we check the uniques classes\n",
    "#going throug the data manually I noticed that it was a mix of int, float and blank space. \n",
    "#so I had to convert everything to numeric value, check and fill the missing values. \n",
    "\n",
    "print(data['TotalCharges'].unique())"
   ]
  },
  {
   "cell_type": "code",
   "execution_count": 119,
   "id": "b94149fc-511d-411d-854c-cc7bece31164",
   "metadata": {},
   "outputs": [
    {
     "name": "stdout",
     "output_type": "stream",
     "text": [
      "11\n"
     ]
    }
   ],
   "source": [
    "#This code converts all data entry under totlcharge to a numeric type, which will automatically turn invalid entries into NaN\n",
    "data['TotalCharges'] = pd.to_numeric(data['TotalCharges'], errors='coerce')\n",
    "print(data['TotalCharges'].isnull().sum())"
   ]
  },
  {
   "cell_type": "code",
   "execution_count": 120,
   "id": "2c5dfd3f-6ac5-404f-88b0-93c3879d0355",
   "metadata": {},
   "outputs": [
    {
     "name": "stdout",
     "output_type": "stream",
     "text": [
      "0\n"
     ]
    }
   ],
   "source": [
    "median_totalcharges = data['TotalCharges'].median()\n",
    "data['TotalCharges'] = data['TotalCharges'].fillna(median_totalcharges)\n",
    "print(data['TotalCharges'].isnull().sum())\n"
   ]
  },
  {
   "cell_type": "code",
   "execution_count": 121,
   "id": "f00c4274-16a9-4d2c-8789-39433b4f6a8f",
   "metadata": {},
   "outputs": [
    {
     "name": "stdout",
     "output_type": "stream",
     "text": [
      "<class 'pandas.core.frame.DataFrame'>\n",
      "RangeIndex: 7043 entries, 0 to 7042\n",
      "Data columns (total 21 columns):\n",
      " #   Column            Non-Null Count  Dtype  \n",
      "---  ------            --------------  -----  \n",
      " 0   customerID        7043 non-null   object \n",
      " 1   gender            7043 non-null   object \n",
      " 2   SeniorCitizen     7043 non-null   int64  \n",
      " 3   Partner           7043 non-null   object \n",
      " 4   Dependents        7043 non-null   object \n",
      " 5   tenure            7043 non-null   int64  \n",
      " 6   PhoneService      7043 non-null   object \n",
      " 7   MultipleLines     7043 non-null   object \n",
      " 8   InternetService   7043 non-null   object \n",
      " 9   OnlineSecurity    7043 non-null   object \n",
      " 10  OnlineBackup      7043 non-null   object \n",
      " 11  DeviceProtection  7043 non-null   object \n",
      " 12  TechSupport       7043 non-null   object \n",
      " 13  StreamingTV       7043 non-null   object \n",
      " 14  StreamingMovies   7043 non-null   object \n",
      " 15  Contract          7043 non-null   object \n",
      " 16  PaperlessBilling  7043 non-null   object \n",
      " 17  PaymentMethod     7043 non-null   object \n",
      " 18  MonthlyCharges    7043 non-null   float64\n",
      " 19  TotalCharges      7043 non-null   float64\n",
      " 20  Churn             7043 non-null   object \n",
      "dtypes: float64(2), int64(2), object(17)\n",
      "memory usage: 1.1+ MB\n",
      "None\n"
     ]
    }
   ],
   "source": [
    "print(data.info())"
   ]
  },
  {
   "cell_type": "code",
   "execution_count": 122,
   "id": "d9a9e371-daa9-438d-9c24-75963409656e",
   "metadata": {},
   "outputs": [],
   "source": [
    "# Select only numerical features\n",
    "\n",
    "encoder = LabelEncoder()\n",
    "data['Churn'] = encoder.fit_transform(data['Churn'])\n",
    "\n",
    "\n"
   ]
  },
  {
   "cell_type": "code",
   "execution_count": 123,
   "id": "64a7d5c0-d31e-4c03-8741-71d2a2611b87",
   "metadata": {},
   "outputs": [
    {
     "name": "stdout",
     "output_type": "stream",
     "text": [
      "Churn             1.000000\n",
      "MonthlyCharges    0.193356\n",
      "SeniorCitizen     0.150889\n",
      "TotalCharges     -0.199037\n",
      "tenure           -0.352229\n",
      "Name: Churn, dtype: float64\n"
     ]
    }
   ],
   "source": [
    "numerical_data = data.select_dtypes(include=['float64', 'int64'])\n",
    "\n",
    "# Compute correlation\n",
    "correlation_matrix = numerical_data.corr()\n",
    "\n",
    "# Display correlations with the target variable\n",
    "print(correlation_matrix['Churn'].sort_values(ascending=False))"
   ]
  },
  {
   "cell_type": "code",
   "execution_count": 124,
   "id": "96aa27b8-6a93-4251-b382-1afaacfa7987",
   "metadata": {},
   "outputs": [],
   "source": [
    "#Encoding Caregorical values \n",
    "binary_columns = ['gender', 'Partner', 'Dependents','PhoneService', 'PaperlessBilling']\n",
    "le = LabelEncoder()\n",
    "for column in binary_columns:\n",
    "    data[column] = le.fit_transform(data[column])"
   ]
  },
  {
   "cell_type": "code",
   "execution_count": 125,
   "id": "e4cab1a9-3f86-4be5-ae0b-c95be7c6f8ec",
   "metadata": {},
   "outputs": [],
   "source": [
    "#onehot encoding non binary classes \n",
    "data = pd.get_dummies(data, columns=['MultipleLines', 'InternetService', 'OnlineSecurity', 'OnlineBackup', 'DeviceProtection', 'TechSupport', 'StreamingTV', 'StreamingMovies', 'Contract', 'PaymentMethod'])\n"
   ]
  },
  {
   "cell_type": "code",
   "execution_count": 126,
   "id": "2e496ed3-175e-4fc0-b7c7-d4a27f57b57a",
   "metadata": {},
   "outputs": [
    {
     "name": "stdout",
     "output_type": "stream",
     "text": [
      "   customerID  gender  SeniorCitizen  Partner  Dependents  tenure  \\\n",
      "0  7590-VHVEG       0              0        1           0       1   \n",
      "1  5575-GNVDE       1              0        0           0      34   \n",
      "2  3668-QPYBK       1              0        0           0       2   \n",
      "3  7795-CFOCW       1              0        0           0      45   \n",
      "4  9237-HQITU       0              0        0           0       2   \n",
      "\n",
      "   PhoneService  PaperlessBilling  MonthlyCharges  TotalCharges  ...  \\\n",
      "0             0                 1           29.85         29.85  ...   \n",
      "1             1                 0           56.95       1889.50  ...   \n",
      "2             1                 1           53.85        108.15  ...   \n",
      "3             0                 0           42.30       1840.75  ...   \n",
      "4             1                 1           70.70        151.65  ...   \n",
      "\n",
      "   StreamingMovies_No  StreamingMovies_No internet service  \\\n",
      "0                True                                False   \n",
      "1                True                                False   \n",
      "2                True                                False   \n",
      "3                True                                False   \n",
      "4                True                                False   \n",
      "\n",
      "   StreamingMovies_Yes  Contract_Month-to-month  Contract_One year  \\\n",
      "0                False                     True              False   \n",
      "1                False                    False               True   \n",
      "2                False                     True              False   \n",
      "3                False                    False               True   \n",
      "4                False                     True              False   \n",
      "\n",
      "   Contract_Two year  PaymentMethod_Bank transfer (automatic)  \\\n",
      "0              False                                    False   \n",
      "1              False                                    False   \n",
      "2              False                                    False   \n",
      "3              False                                     True   \n",
      "4              False                                    False   \n",
      "\n",
      "   PaymentMethod_Credit card (automatic)  PaymentMethod_Electronic check  \\\n",
      "0                                  False                            True   \n",
      "1                                  False                           False   \n",
      "2                                  False                           False   \n",
      "3                                  False                           False   \n",
      "4                                  False                            True   \n",
      "\n",
      "   PaymentMethod_Mailed check  \n",
      "0                       False  \n",
      "1                        True  \n",
      "2                        True  \n",
      "3                       False  \n",
      "4                       False  \n",
      "\n",
      "[5 rows x 42 columns]\n"
     ]
    }
   ],
   "source": [
    "print(data.head())"
   ]
  },
  {
   "cell_type": "code",
   "execution_count": 127,
   "id": "007a1404-a4e7-45a1-92c4-fad493068ae7",
   "metadata": {},
   "outputs": [
    {
     "name": "stdout",
     "output_type": "stream",
     "text": [
      "<class 'pandas.core.frame.DataFrame'>\n",
      "RangeIndex: 7043 entries, 0 to 7042\n",
      "Data columns (total 42 columns):\n",
      " #   Column                                   Non-Null Count  Dtype  \n",
      "---  ------                                   --------------  -----  \n",
      " 0   customerID                               7043 non-null   object \n",
      " 1   gender                                   7043 non-null   int64  \n",
      " 2   SeniorCitizen                            7043 non-null   int64  \n",
      " 3   Partner                                  7043 non-null   int64  \n",
      " 4   Dependents                               7043 non-null   int64  \n",
      " 5   tenure                                   7043 non-null   int64  \n",
      " 6   PhoneService                             7043 non-null   int64  \n",
      " 7   PaperlessBilling                         7043 non-null   int64  \n",
      " 8   MonthlyCharges                           7043 non-null   float64\n",
      " 9   TotalCharges                             7043 non-null   float64\n",
      " 10  Churn                                    7043 non-null   int64  \n",
      " 11  MultipleLines_No                         7043 non-null   bool   \n",
      " 12  MultipleLines_No phone service           7043 non-null   bool   \n",
      " 13  MultipleLines_Yes                        7043 non-null   bool   \n",
      " 14  InternetService_DSL                      7043 non-null   bool   \n",
      " 15  InternetService_Fiber optic              7043 non-null   bool   \n",
      " 16  InternetService_No                       7043 non-null   bool   \n",
      " 17  OnlineSecurity_No                        7043 non-null   bool   \n",
      " 18  OnlineSecurity_No internet service       7043 non-null   bool   \n",
      " 19  OnlineSecurity_Yes                       7043 non-null   bool   \n",
      " 20  OnlineBackup_No                          7043 non-null   bool   \n",
      " 21  OnlineBackup_No internet service         7043 non-null   bool   \n",
      " 22  OnlineBackup_Yes                         7043 non-null   bool   \n",
      " 23  DeviceProtection_No                      7043 non-null   bool   \n",
      " 24  DeviceProtection_No internet service     7043 non-null   bool   \n",
      " 25  DeviceProtection_Yes                     7043 non-null   bool   \n",
      " 26  TechSupport_No                           7043 non-null   bool   \n",
      " 27  TechSupport_No internet service          7043 non-null   bool   \n",
      " 28  TechSupport_Yes                          7043 non-null   bool   \n",
      " 29  StreamingTV_No                           7043 non-null   bool   \n",
      " 30  StreamingTV_No internet service          7043 non-null   bool   \n",
      " 31  StreamingTV_Yes                          7043 non-null   bool   \n",
      " 32  StreamingMovies_No                       7043 non-null   bool   \n",
      " 33  StreamingMovies_No internet service      7043 non-null   bool   \n",
      " 34  StreamingMovies_Yes                      7043 non-null   bool   \n",
      " 35  Contract_Month-to-month                  7043 non-null   bool   \n",
      " 36  Contract_One year                        7043 non-null   bool   \n",
      " 37  Contract_Two year                        7043 non-null   bool   \n",
      " 38  PaymentMethod_Bank transfer (automatic)  7043 non-null   bool   \n",
      " 39  PaymentMethod_Credit card (automatic)    7043 non-null   bool   \n",
      " 40  PaymentMethod_Electronic check           7043 non-null   bool   \n",
      " 41  PaymentMethod_Mailed check               7043 non-null   bool   \n",
      "dtypes: bool(31), float64(2), int64(8), object(1)\n",
      "memory usage: 818.6+ KB\n",
      "None\n"
     ]
    }
   ],
   "source": [
    "print(data.info())"
   ]
  },
  {
   "cell_type": "code",
   "execution_count": 128,
   "id": "46ae3347-f23f-453a-8fb0-4fdc7f8cb38e",
   "metadata": {},
   "outputs": [],
   "source": [
    "data = data.drop('customerID', axis=1)"
   ]
  },
  {
   "cell_type": "code",
   "execution_count": 129,
   "id": "856eaea0-ae85-41d1-b651-91614c1080c0",
   "metadata": {},
   "outputs": [],
   "source": [
    "X = data.drop('Churn', axis=1)\n",
    "y = data['Churn']"
   ]
  },
  {
   "cell_type": "code",
   "execution_count": 133,
   "id": "375f55b2-189d-41b6-9492-354944dccd2f",
   "metadata": {},
   "outputs": [],
   "source": [
    "#we are going to build a LOgistic  Regression model and a Random forest model with all the features.\n",
    "from sklearn.ensemble import RandomForestClassifier\n",
    "from sklearn.metrics import accuracy_score \n",
    "from sklearn.model_selection import train_test_split\n",
    "\n",
    "X_train, X_test, y_train, y_test = train_test_split(X, y, test_size=0.3, random_state=42)"
   ]
  },
  {
   "cell_type": "code",
   "execution_count": 134,
   "id": "a380b4f4-bea0-4599-a04a-e055bcc2ec2a",
   "metadata": {},
   "outputs": [],
   "source": [
    "lr = RandomForestClassifier()\n",
    "lr.fit(X_train, y_train)\n",
    "y_pred = lr.predict(X_test)"
   ]
  },
  {
   "cell_type": "code",
   "execution_count": 135,
   "id": "64df72af-5e0c-4e43-8191-3f46277793f6",
   "metadata": {},
   "outputs": [],
   "source": [
    "accuracy = accuracy_score(y_test, y_pred)"
   ]
  },
  {
   "cell_type": "code",
   "execution_count": 136,
   "id": "ec52becb-d29d-4a86-858e-077489c0032c",
   "metadata": {},
   "outputs": [
    {
     "name": "stdout",
     "output_type": "stream",
     "text": [
      "The accuracy is 79.555135%\n"
     ]
    }
   ],
   "source": [
    "print (f'The accuracy is {accuracy*100.:2f}%')"
   ]
  },
  {
   "cell_type": "code",
   "execution_count": 137,
   "id": "08b12216-1e0f-43a0-966b-20fb26a7a06b",
   "metadata": {},
   "outputs": [
    {
     "name": "stdout",
     "output_type": "stream",
     "text": [
      "Selected Features: Index(['gender', 'SeniorCitizen', 'Partner', 'tenure', 'PaperlessBilling',\n",
      "       'MonthlyCharges', 'TotalCharges', 'MultipleLines_No',\n",
      "       'InternetService_Fiber optic', 'OnlineSecurity_No', 'OnlineBackup_No',\n",
      "       'DeviceProtection_No', 'TechSupport_No', 'Contract_Month-to-month',\n",
      "       'PaymentMethod_Electronic check'],\n",
      "      dtype='object')\n"
     ]
    }
   ],
   "source": [
    "#I will now use RFE to slect features and see what the accuracy will be \n",
    "from sklearn.feature_selection import RFE\n",
    "from sklearn.ensemble import RandomForestClassifier\n",
    "\n",
    "# Initialize RFE with Random Forest\n",
    "rfe = RFE(estimator=RandomForestClassifier(n_estimators=100, random_state=42), n_features_to_select=15)\n",
    "rfe.fit(X, y)\n",
    "\n",
    "# Selected features\n",
    "selected_features = X.columns[rfe.support_]\n",
    "print(\"Selected Features:\", selected_features)\n",
    "\n",
    "# Create a reduced dataset\n",
    "X_reduced = X[selected_features]\n"
   ]
  },
  {
   "cell_type": "code",
   "execution_count": 140,
   "id": "d8030aeb-9706-49a3-9c44-063aababd85e",
   "metadata": {},
   "outputs": [],
   "source": [
    "from sklearn.model_selection import train_test_split\n",
    "X_train, X_test, y_train, y_test = train_test_split(X_reduced, y, test_size=0.3, random_state=42)\n"
   ]
  },
  {
   "cell_type": "code",
   "execution_count": 155,
   "id": "f79aacbe-4b0f-4d7b-85d8-8fd011632a01",
   "metadata": {},
   "outputs": [],
   "source": [
    "from sklearn.ensemble import RandomForestClassifier\n",
    "from sklearn.metrics import accuracy_score \n"
   ]
  },
  {
   "cell_type": "code",
   "execution_count": 156,
   "id": "6aaa606d-7fe9-4679-982c-2e554559b23b",
   "metadata": {},
   "outputs": [],
   "source": [
    "rad = RandomForestClassifier()\n",
    "rad.fit(X_train, y_train)\n",
    "y_pred = rad.predict(X_test)\n"
   ]
  },
  {
   "cell_type": "code",
   "execution_count": 157,
   "id": "2b5b7851-b7f8-48e1-9074-020b6b860a8b",
   "metadata": {},
   "outputs": [],
   "source": [
    "rad_accuracy = accuracy_score(y_test, y_pred)"
   ]
  },
  {
   "cell_type": "code",
   "execution_count": 158,
   "id": "395b7471-2cee-4b16-b9a1-aebabd84cb96",
   "metadata": {},
   "outputs": [
    {
     "name": "stdout",
     "output_type": "stream",
     "text": [
      "The RFE accuracy is: 79.460483%\n"
     ]
    }
   ],
   "source": [
    "print(f'The RFE accuracy is: {rad_accuracy*100.:2f}%')"
   ]
  },
  {
   "cell_type": "markdown",
   "id": "2800a0be-302c-4428-9c6d-e84dc6b6f752",
   "metadata": {},
   "source": [
    "Conclusion:Random Forest effectively models data with many features, achieving an accuracy of 79.55% when all features were used. After applying Recursive Feature Elimination (RFE) to select 15 key features, the accuracy was 74.46%, indicating that feature selection can influence model performance positively or negatively. This underscores the importance of carefully evaluating feature selection techniques. While RFE was the sole method explored here, other techniques may further refine the model. Future improvements could include hyperparameter tuning and cross-validation to enhance accuracy."
   ]
  },
  {
   "cell_type": "code",
   "execution_count": null,
   "id": "fd36039b-97ac-40cd-9a4b-6c1a89ead863",
   "metadata": {},
   "outputs": [],
   "source": []
  }
 ],
 "metadata": {
  "kernelspec": {
   "display_name": "Python 3 (ipykernel)",
   "language": "python",
   "name": "python3"
  },
  "language_info": {
   "codemirror_mode": {
    "name": "ipython",
    "version": 3
   },
   "file_extension": ".py",
   "mimetype": "text/x-python",
   "name": "python",
   "nbconvert_exporter": "python",
   "pygments_lexer": "ipython3",
   "version": "3.12.0"
  }
 },
 "nbformat": 4,
 "nbformat_minor": 5
}
